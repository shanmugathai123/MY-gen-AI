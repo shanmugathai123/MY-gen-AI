{
  "nbformat": 4,
  "nbformat_minor": 0,
  "metadata": {
    "colab": {
      "provenance": []
    },
    "kernelspec": {
      "name": "python3",
      "display_name": "Python 3"
    },
    "language_info": {
      "name": "python"
    }
  },
  "cells": [
    {
      "cell_type": "code",
      "source": [
        "# Step 1: Install gTTS for voice\n",
        "!pip install gTTS\n",
        "\n",
        "# Step 2: Import libraries\n",
        "import numpy as np\n",
        "from tensorflow.keras.preprocessing.text import Tokenizer\n",
        "from tensorflow.keras.models import Sequential\n",
        "from tensorflow.keras.layers import Embedding, LSTM, Dense\n",
        "from tensorflow.keras.utils import to_categorical\n",
        "from gtts import gTTS\n",
        "from IPython.display import Audio, display\n",
        "\n",
        "# Step 3: Training text\n",
        "text = \"machine learning is powerful. deep learning is a branch of machine learning. artificial intelligence includes machine learning.\"\n",
        "\n",
        "# Step 4: Tokenize words\n",
        "tokenizer = Tokenizer()\n",
        "tokenizer.fit_on_texts([text])\n",
        "word_index = tokenizer.word_index\n",
        "index_word = {v: k for k, v in word_index.items()}\n",
        "vocab_size = len(word_index) + 1\n",
        "\n",
        "# Step 5: Prepare sequences (2-word to 1-word)\n",
        "words = text.lower().split()\n",
        "sequences = []\n",
        "\n",
        "for i in range(1, len(words)):\n",
        "    seq = words[i-1:i+1]\n",
        "    encoded = tokenizer.texts_to_sequences([' '.join(seq)])[0]\n",
        "    if len(encoded) == 2:\n",
        "        sequences.append(encoded)\n",
        "\n",
        "sequences = np.array(sequences)\n",
        "x, y = sequences[:, 0], sequences[:, 1]\n",
        "x = x.reshape((x.shape[0], 1))\n",
        "y = to_categorical(y, num_classes=vocab_size)\n",
        "\n",
        "# Step 6: Build and train model\n",
        "model = Sequential()\n",
        "model.add(Embedding(input_dim=vocab_size, output_dim=10, input_length=1))\n",
        "model.add(LSTM(64))\n",
        "model.add(Dense(vocab_size, activation='softmax'))\n",
        "model.compile(loss='categorical_crossentropy', optimizer='adam')\n",
        "model.fit(x, y, epochs=300, verbose=0)\n",
        "\n",
        "# Step 7: Input from user\n",
        "input_word = input(\"Enter one word: \").lower()\n",
        "\n",
        "if input_word not in word_index:\n",
        "    print(\"❌ Word not found in training text!\")\n",
        "else:\n",
        "    encoded = tokenizer.texts_to_sequences([input_word])[0]\n",
        "    encoded = np.array(encoded).reshape(1, 1)\n",
        "\n",
        "    pred = model.predict(encoded, verbose=0)\n",
        "    next_index = np.argmax(pred)\n",
        "    predicted_word = index_word.get(next_index, \"<unk>\")\n",
        "\n",
        "    # Text output\n",
        "    print(\"✅ Predicted next word:\", predicted_word)\n",
        "\n",
        "    # Voice output\n",
        "    tts = gTTS(predicted_word)\n",
        "    tts.save(\"predicted.mp3\")\n",
        "    display(Audio(\"predicted.mp3\", autoplay=True))\n"
      ],
      "metadata": {
        "colab": {
          "base_uri": "https://localhost:8080/",
          "height": 304
        },
        "id": "Wi34ucj-9o4x",
        "outputId": "b7d2394f-daa9-461e-afd0-a0753a173f59"
      },
      "execution_count": null,
      "outputs": [
        {
          "output_type": "stream",
          "name": "stdout",
          "text": [
            "Requirement already satisfied: gTTS in /usr/local/lib/python3.11/dist-packages (2.5.4)\n",
            "Requirement already satisfied: requests<3,>=2.27 in /usr/local/lib/python3.11/dist-packages (from gTTS) (2.32.3)\n",
            "Requirement already satisfied: click<8.2,>=7.1 in /usr/local/lib/python3.11/dist-packages (from gTTS) (8.1.8)\n",
            "Requirement already satisfied: charset-normalizer<4,>=2 in /usr/local/lib/python3.11/dist-packages (from requests<3,>=2.27->gTTS) (3.4.2)\n",
            "Requirement already satisfied: idna<4,>=2.5 in /usr/local/lib/python3.11/dist-packages (from requests<3,>=2.27->gTTS) (3.10)\n",
            "Requirement already satisfied: urllib3<3,>=1.21.1 in /usr/local/lib/python3.11/dist-packages (from requests<3,>=2.27->gTTS) (2.4.0)\n",
            "Requirement already satisfied: certifi>=2017.4.17 in /usr/local/lib/python3.11/dist-packages (from requests<3,>=2.27->gTTS) (2025.7.14)\n"
          ]
        },
        {
          "output_type": "stream",
          "name": "stderr",
          "text": [
            "/usr/local/lib/python3.11/dist-packages/keras/src/layers/core/embedding.py:90: UserWarning: Argument `input_length` is deprecated. Just remove it.\n",
            "  warnings.warn(\n"
          ]
        },
        {
          "name": "stdout",
          "output_type": "stream",
          "text": [
            "Enter one word: machine\n"
          ]
        },
        {
          "output_type": "stream",
          "name": "stderr",
          "text": [
            "WARNING:tensorflow:6 out of the last 55 calls to <function TensorFlowTrainer.make_predict_function.<locals>.one_step_on_data_distributed at 0x799b67b73740> triggered tf.function retracing. Tracing is expensive and the excessive number of tracings could be due to (1) creating @tf.function repeatedly in a loop, (2) passing tensors with different shapes, (3) passing Python objects instead of tensors. For (1), please define your @tf.function outside of the loop. For (2), @tf.function has reduce_retracing=True option that can avoid unnecessary retracing. For (3), please refer to https://www.tensorflow.org/guide/function#controlling_retracing and https://www.tensorflow.org/api_docs/python/tf/function for  more details.\n"
          ]
        },
        {
          "output_type": "stream",
          "name": "stdout",
          "text": [
            "✅ Predicted next word: learning\n"
          ]
        },
        {
          "output_type": "display_data",
          "data": {
            "text/plain": [
              "<IPython.lib.display.Audio object>"
            ],
            "text/html": [
              "\n",
              "                <audio  controls=\"controls\" autoplay=\"autoplay\">\n",
              "                    <source src=\"data:audio/mpeg;base64,//OExAAAAAAAAAAAAAAAAAAAAAAAAAAAAAAAAAAAAAAAAAAAAAAAAAAAAAAAAAAAAAAAAAAAAAAAAAAAAAAAAAAAAAAAAAAAAAAAAAAAAAAAAAAAAAAAAAAAAAAAAAAAAAAAAAAAAAAAAAAAAAAAAAAAAAAAAAAAAAAAAAAAAAAAAAAAAAAAAAAAAAAAAAAAAAAAAAAAAAAAAAAAAAAAAAAAAAAAAAAAAAAAAAAAAAAAAAAAAAAAAAAAAAAAAAAA//OExAAmmZIIAU8wAU+W8QsQ8l7cSghCEQnlHjxWPInpSlKQHjyInd3d3dkEIjP//4iIx7IECERBhAgFkyad3Z5MgQIECBAgQIBZMHAYDAYDJhYAABAgQIECCBMPDw8PAAAAAAMPDw8PAAAAAAMPDw8PAAAAAAMPDw8PAAAAAAMPDw///gABh4eHjwAAAABGHh4/////////+AYeHh4eAAAAAAYeHn5qbkYEAkWBFMsSbMMg1MU+1ZKiOY1DIYdh//OExBgsPC5IAZ2QAAGSZ5m8Scv5NhgSsXBQSgoH1H3HAGIBgBmhCgS1kU3A8ITQn4PUBXC6SNTLRSayZZK5mZEwpSWiZ26jBROMg6nX09bUzRBI4TBFCh/qe5o1DMSJkDE5ragbt9P6ezW2pshaowYppM//+pv21eZpeszK5PmibJmxMG46G7foU/80W7pqbdBF1JMXG9FrmDoOo0NiYQUYGJiaV0OSPRf8wqDcwghE5nHQxzCQBBmpyYpgGctn//OExBos27pUAd2gAVgEBqiCyj48CUWrTLdgMCrzV5p1DAEHmoEQFaBhMDHq1HmKAfoV1ZgfdaCZ+zlxEzdJRipNIzN3oIutT1u6KjNC5wgb3SKSJqpRgYsyK1Gykjg6i+arnkU/69JjBHrbX6N9KdRSdC1///q1scZE0NEnupTaNFtkjMwYhhgUUiyifdS3egplF9S0nQWvdNepJSaMwgKOcInY3KqQMYWyMg4wZgzGi4GQqYgCxiYDmFmqdpUh//OExBkss+ZgAOUQ3IlEpAAHBug4STle6+AOFUCm5w3AIkgNGw1eMkGQQAiAceVEzg5wsakXLCaWiV3y8Zp1mRE06RiaJvRPJqUpJ9TF9PJkg5Pu580UpJKb1I/sIYQV0U/+yInCaIbadVWn307xGiTH////////z7qMm275i6jiKuZlJ1JEIkeJx6fd1RMkSar9JGsREnT1cHoOHFmFh5RdDTz/7q6kjLuKnMJBk+ASAwmF/xYMmFh+bGypztBg//OExBktc+JwAOZK3JCSGq7kG2JwPK7qepaB8obbo+5xqHamp00BryAJMBplfGo/8P3+ZZ7z5jhXz13LOxzfLVJh+sN9/WWNfPH8+Ulj5fEIft0lvW8st/rWtb8iKhQ+DixUZJ1dBAawgIKPYwcBAwaIM7qjLYiuR0b///6el3WWYr8jodGQrsQ5yCMPjTJszkmGHuZnV6M6VMqs7IVRMYLijIKBs4GBP66pVwiYiBxrMyhAZZazoLgALD82vBgM//OExBYto/6AAOZO3KFPKDpKJA0wuAQKAXepWlAgUFJv1QsNC8B1vgotr041RSswmAFQ3aKzLMkHHkp8ZY7DuSzOtN2t292bUosb3Yryzmeq9vffsy/95R+IXrtyHpmpj3LuPK+efO0g4gyoLAkEwmYg5Y0yPuYLShAmXEyjU4RDBxTSf/U005jG///9J6uxi6zD3Qm5hjXddPfv6/9PZqIn+uYaj3ERDzDDxoyq+kzuMzMSIsWG7vzDtDATMnQc//OExBIr41qIAOZOvNXDxWeArqqwFNwrElzRzDXhCQZZ6Oc09TSyoIYYKl8jbq5gWjOu03RWrwdKy9qHRAZAkxKnhbg5EUpY7DEoqRill6KC83nld+M1pvuOOs7d6zZyz5atGljjSRQocqoQMOKlDw8UKIoqGwvHTDjrrmmG2RZpE5R80gml/////9H9D9Th1VZjiplDXFKK5/tV2n1s5OQd/X71jAaLOaEa1RdvRYLAk0sShYGP/ALOjBQ7NRRU//OExBUm60qMAOaEvNMiNo1VnAhCRpLpqkCtMnwhqVAkUNAI5EaS2/AKBwuIvyKDRJSBrbyu/K5THU+UFJZ9A/zD0TIO9pSJzS2WRmSP9nhVz5+8ed5//vDff25balc66kO9woABgiczLZDkQqoYo44oOKKqf//////66zL77Sz1ZHQjFUUpBDQyAFCp8oTNatZsxblnvM2AGlVa12XVJsRggIC58MOox0j9LpCgOYBSgIjgaU00lZ4HHMXi261G//OExCwmQ46EAObOvV5ED6lqkkoIEzWgpMC5NTDOl9hBBLaSlZ66I8ay+hn+1FbquH/92z///7v/+//X/7fY/zbnDxU0DRIZ9C5lUOEVGvEUHkd5pjf///////vqhzrMsZPc5I+RUfNU0k9zHOmKmY7I5aQ1+HISXiG5ezrSkZBxtQ3DwyjMQcNBQyDCTh6MQBuqgRa0hKMbAsyyAm1tYTb/jaz5y7leIChA0lTYcf2ob8wRCyaDok1U0FjaHvWp//OExEYmm8aAAOZO3MtiIAKNM3syjO67a6v1386+v/9546///7X/+tf3/3hnU7/+VA4RrsSFIOTdkY3Rh88jY8mTAcd7f///////9D762/2Q6i77/zjmdLITO6mmPuaWbWrkNTL1IemEQ6ctKaynHZkFAOGE4ytaQEax4Guc1hgZhQFGgR4NBp+a1mGhohj0rpaS0FgC6UPfVjahwEZCEXZc5VAHAGLyVBWRLmLuAgQ2DA6svjTPw/7Rly2buGsa//OExF4ns6aAAOZE3Fy7vPO1Z//3nh3uufvKkqUl63ex3vOWT8pARKodn9HXQph9gwUhnVW///////////p/0/9upz9nKGMYGxbTR7xSmonDSto8FzMBlOSjwBDMtoKBAAgk3NRDosmATjRIfNn5nbpy5Qs2fhcjuVy2LaSt06dZ5dlxa8vdtpBclqL9V3hUMMKMMqaMmCYanyAQASKBweG0CxHwyyJ5DAIuE+bFo4TR+kqbOy1TdzI8u6Z08RZM//OExHIladJ4AOamlLpqZOyKK0b9a/1KQVWkas4VOumP////+lLUaGLJ0BIKkWrxLX2qsuGgCZJhp9f5GhxYYABAQJTCbLOqhM4kjRoipZtnXSganq3UCrN+Tmp2Z3KSxZrTtLzSHUCQA3pVDFadppfAcnjELgVf7bUkDvq/sTuxh8ZXT0kpeqBJDVp6bCrTxiivUGb+RFwL0UltvEc7KjJyXafs98YNCQqw5h5pRUBxMWKiT3//////////vvr9//OExI8mE0ZsAOYKvZbvFY2lxqtv71W9LoOQDiDZNaFw4BUdMeHjLfE6gOMfKxwhNlYTFRJQ0qBGMgc4okgkkzVNByYlDdddDtuLSQzL5ZF37kNNKaebpKGCKz/S225DcGwsmUgmOg44rrA3CEIez3OtYVcJtVb51dOOZuHeXu4jhMSfF4V6cN9irqMoK4iwlBfcBtUen7Y1wmORT28fT+uN9+n4Fwopmp0v////ODX7Ka7N6w+X8CMU61JPEChp//OExKkrceKEAN5emPg+XPh95figJLzQzhM+UN8Ym/hCk+o0LCsmaiOO2wwGQRXftnAMEgJXrjPu4zqWRB5HKkUbk8O8p8qX9162WGdS19pY4TYE+jCkBnE4HAW9rfJbMFpVUlnq5yjjZGW3jxLEbpOUinoitb3sJ9hixaXD+DSemKR1xk6GjRaaBdZ1HIMbZ///5AVjas1/sFWnfES2nyE9OiJqB5E8eGhNwopKAYEIHW1aUYsZGdhjwjgsbpEH//OExK4mMaKMAN4elGq0VjbEUznyjSywcDMFuLhDVa62j0JiNSV3dvV1cw8WxSNn5hPrRXJtYUJEmJGOUogsCiOhArKGLhCXN8h53StIaswD1Ol0kaqZwng5jRcQvFxCltPOAIJDiCjNaz3ukED6fvIUZHta//////ORLWTfIXr//7/+kn/5wa0FNW3/0KB8aiq2ayqanG+M+XQ4fYqmGDxdAczExKiOFEAEPPuwWLy1R8wwJTpirgE31DNM6d80//OExMgnC7qIANvE3dQ1OdmjZi23mNn7197/xmsF9HqcouJdkPJKMs82szkJUSYeIUkFGkD3VtKwpLRcbi2rrdfiNXGaiw8aOCTnPWzbMZBMySs3qQ6mVCr0////7aNoalUeXvLf319P/9TPOvvOrnKitod9dTWOJIwuKiZTs6nPi9VQ4woAGLGNYYYFADZTEK5M7kotuAAKaHlxlMPIZpyBBGf53xQUqbNPEINMRgAV5eG69mP8smlzFfVEyIOm//OExN4oDDqAANvK3BQ38Dfq996fO60z64ZGZRTkqRT0KoYIuJNCem6ZhKCxkJRU2l2wQYto0WXWvC9v8WtnDzCRgKg8YyCIoPUYNeLnd2p5HOxkOtnu3///6VKiEqrI9jb6sNHCxn23MZ/3/JuqHFk6tlKWiL20WJGKMHoHo+QQDTCJRoQDwGUSEVlKUigSGTzahgQGAYLmKzDmcIDiIBDDYZjgQzTDABDBMBgAKwYCTdQuAJguBzXUpDCwBxIH//OExPAuxDpsAOPK3IWEKQEXpWi0rNQ23NSk/BbUXEjNfN77c4UjqNt+5QoKls2Evkc5FQ7VqIrOri3nCpjbRKpYtRdY+NWzvGfiv+M4p189oJEUyDlqI2FmkXD92uf3YWCd1WIoUdEdfn///////oaURDPzHM07XyKrtc1XDN1X/V1XH/HXJHO1fxP0qql9RHtNRXj3Y6fKmPQo40mqgt0jAotOttgILY6BDSjaNFhABD4wBHDOo7Zk1AwqFZDT//OExOgxjDJYAOvQ3Y4AW3bG+gLyWcukRmSeXs9os47HMqNdsD2Hcl1enzvW6eV5Vp7Lt7GxM36aB4zKYzKcIeluEi3KiQlBURRFFDjBo4XVVWd33vNzkWaxpub6Kxx1W/ZEHTjujmP////qrETVgMs4mApb0mWq5lRasLkv/RqBkHFAHW4I1RAA4OBYwiBk60Dww4BUChQZusAY5AIYkgKYVrEbpgGKAojaMBs+tIwAeAZk4jAswjApzXhCk4xP//OExNQmyq5cAOZOuLwt72dSRo4ghygeVS6bk0rgV1HzrWL1Lfs2b8OZyWG5e/Dox9rEas1qlurEYrVopZNxuTrfhx3L3Nfyv/4//M8P/f9/SXpvZVSttvbASqOEdkcKKZNv//+9SkVmDKwYxkZC3t6e5Tot0Qqndhqz0qi1dOnv//u7FMw9bsu9G5p+kCzAEmDg1aS/ZhcG5hurpksG6AMwxI43ZFowVCkmAEwkClMyUEoAMGggcA0iDVwhLA9B//OExOstq/5MAO4E3dUkFrqyF6QlCUSfLKu4MRyVD5CGFieNT6ezjEyzsjKXBDV9tP9UxLWi4heCpMORBz2Q4zUtDvJfOa/XtvFtV+qvMzE0KrI+WiEd7sx+jB2LNsKff9U//rRkZ/Zk80sh031RtJ7TOMopjrNWpUM//rN/9NAzMlqBoqlMUwICDALDOf+Bc6FJpJMmOwKIwqYbJRwUyGEQSNBoiN9iJqLNEnAoNLloj8Koytw4lLLTYHXgCINd//OExOcrQ/ZIAOvE3IjXhMZrw37bNAfKip3Xo7EYr1ZuenG7OG8bW3Gma8XrTsXtUfJRJrskay6MpfhxHkq2SlGNMsjnmV419TODO6FRHqbnESC9XtcfDxBrR0rMi6H03X/+dvbZHeyvV2GiKNa11t5CQ1xMQGTJqLwUCAocQm301BJcUD544bRVasgcYfBqdVHiBhlMHwcISIARdGBQfmJIJGHgEussEo5q5Kkq7IiCQkQfUtQWd+XUMEWnWeB9//OExO0ti3ZEAOYKvJvnDVymqtaS3nhm3Ye2+ziGYxSUkDyKngqljsAU6KFuCWE2QmFttWWWV9Vna10qo5hEuP3axGi2hXz67kxi0OHqBN75947NXN92+t/Oc/UkV9nw4eN43ek2mJZ6k3xX1XdMUASgajNAlGnRKDoaUWPCUBHnln6NTHDRk03ULAMy8woVBs8fDKmPgRgAQcCMBh4FAkYJjAyQyUSSsR9gWUtJaYw4s+ZxqAsjblPynCG7FPAk//OExOktehpAAO4emK2lPynNRuO2l1/WJI9RuSRtr0jrSKzGZp/saz1Pm4XkIXnJNXuX2TmaWsrPVpJNY8XLGq3m3PVftHQrQWeyabe9Pee3dzJ+3ZFly+pqw/9Xt2Ydilb6smXftt3IY1pLdu/cKvlt37HxvXPOUSsYtAQqQIkRYZqfGz3Rp5AYAgmuIJmAyrcYoGmRBoyJgUCAQEvyJrwc8kIkcqqDEMNp2VSyKS7GO02bWnWtOVSqPsidmBqW//OExOYo0iI8AN4YmGZ2blNNT3pRT2JTeqwVHo5InGlVae7n96+8Ky1khzYjA1MFmOGO1SGgYASEMQw8LJHboOmhAKEd3KH4rY/ZntcrFrtXOpadl7pzaduHqY8ba89Q6bXEF5jNMOJFRcV/fZfdq5TT1YVdfd7+TR0fXew1eVTPKEnS+l/vKgIedAYXFNoEChPaoMjUyos0ZJDQww9QV+qzcEqR5BhABoB3PxSFnFMg6UBYvzkrUR4BCVC6aUOi//OExPUvEqYsAN4QueIO6MeEbeMyWY1ObAuTGjGtnd13VkvqhPB5RxM1Y0FITEMccYDUcH4fOIoiQwfMPESVFhBJgrTs4lXMgaY44yzTntzMqriHGwspTdcysWltTorUnDWk95TDKRraJmd4G3EOSucR8mv31lWzo4kKZ8y5mp/k+QYCvyGbNAQeyreVCkqMi7mtNtKXJiLck0UwWQMWq0Ug9bTBGlFlntP0rDtX0GswndekGt0qjgtrDm2Vfwbb//OExOst6uogAMvQuaTPXl09iApFeqWuzlFrS/8XV5cWr84xHg/cGsGH4ssGFlsth9CejQU2u6OGIoo3DvDtv+JbvxErv//b1eN7K7ZJXdulhRy4Q82USOemPxmaNa2vN7ZM5bd6ap+bUt8eN9962Hfw/qWt/yXi/reKz2VTy8XJePT+lkfYFpVYajt0jK4kxTxztfOV1Ia7TP11pLR33hlWJsQJHI9E5E3TEbza0voUR5E5CtNo4pW1o3dVnuHW//OExOYsHAIYAMvM3ZeMoWmKs7sV9gid9jImobXimzLdIK49V6q32pMQLlLEf4zOk8tUFF1+dmJUlpZuoOg2Fs1rjtt2eUU+JutArNsHpOKfGoxKD8+VJdpSpuVmXfpv9mkYQSeNqat8i/efnIJHNU14yqhZeG/Tkqt9141/uWqaKKC4a4Vnqh/KCZssSj0/emqalziVr5h+ppucvo3JiIogCwJEKaGkdjTbNh5GmCyyTdPQlDsGsbdI4KgsjIUD//OExOgr5AoQAMMM3VLUVtIa7SZRDHGkPK0QwpXEUYvZx8YfJaW75hTdykJx+6pJNTFkYpnWPVN0u8cjKNVYGBQtcJRhhIkS3CRI663Hl4rCJcUkzMz2XCRxuOcpntop7+IvJV4lqy45E2bfJSNxo6RvNQWpvmols7WaUxbrjbdJdmvCSD51/meiKbZbbz/eNyny3lGrVuigqAKlLc8PE5wNB5TKVXYbYVZtDOdm1UePo7SU0OstuwnyC6JY0uiI//OExOstNDIEAMJM3RDraCJEbKy1VlI2vGW6n5de/HK8bHpMDqX33ZWqw+Ec7KTcaVNJ15jDUmeZ3FFnmRrpeIrTszMPYS71CjoiUKPKwQSqqMUebtsjFQSadJItW133fqEQU3zVmW6T3+Y+6znFowk9lOgyYpNiAZaKfyEDTKUXL4GEVSvjmqavhhlV5vuVDZ3a+M0mGZk3QCtySQPTNiVFWRzoYsKvbI9VmjbMQjJ5E5TrvQFm2VhnL1alMlS7//OExOkrTBn4AMpM3SjaUXRNNSOMyWxlArNxoSUix8hDzfMMKJHTtUibj4jRfv7FzPPY494n2lSV6tIxcVe2Lg72dhH0R79CPh94ZWQxVbW3LzV69UisuqxpvWU/7FPpCXvO3so6Wd/Oyi5kWYXbH8h0J3W6jBxT90vKDidLeyyu7vdyq37t3+z1PFb8/G8F1jgikX8+T1KEDiRGQMCouGhSkQtFThPSBsSaqeQjlI3OKiNdGWkTExZJHOU5q0QL//OExO4qfCn4AMpM3Sgfa5pRcFyxkyPqiUQWapyO2WjBI0rNcrS8PskbSZMtUVcVacgjOP2UC/jWWyadz+qt4fLIovWUQtrOWLI7kaXSjiim7ertJlaiix0DqvitPNxnMUk271upSQl4wiZhSBak5xjI62QI1U7kQatJlqHTx9lUClNUiletetYq6QujNF0ZGZvBBscksGRubmJukr1M4lK6eioZxqipAfXMpkq4ZWtZQVbIhPNLLkysCJuC55FJ//OExPcw/DnwANJS3FITNqCqRcTBVigsjJcKirdIWVWc2SqU62VkKLVk3FXFqKHQtRI1gWwmNymra3K/yvM5pFnKSqtZI2TYw0Jxq7a5HNwkeRk7cqtyyMnXjsbGvPbcbebjot6eecvHKThKsp+az4/eTrzvT481Xc7f63sSgk/7SRQX/hFTQpUz4CwuAAi6aljE2GMTZY9r/R+WUdn5U+ocjUVzBewcjkDoOiglnh+4/RuHJ+tlpWHkeS4drG4E//OExOYrk9XwAMJM3aViCQS4vYZOiqPQmieSF7mtJUJO3S+VsyhNl1fTEjDziSphRYHQHAOCcOBcx0LIGPXqxJQx4mFYkYMer+mUmHq6ZWiYv////j7ViRYQRIIAuZdXTEkjHS64VYdLr1WJZWFQ6CUMiALo8SMGh6AhYTurFW9QtiYKkaxRupVMQU1FMy4xMDBVVVVVVVVVVVVVVVVVVVVVVVVVVVVVVVVVVVVVVVVVVVVVVVVVVVVVVVVVVVVV//OExOosk2GIAMsQvFVVVVVVVVVVVVVVVVVVVVVVVVVVVVVVVVVVVVVVVVVVVVVVVVVVVVVVVVVVVVVVVVVVVVVVVVVVVVVVVVVVVVVVVVVVVVVVVVVVVVVVVVVVVVVVVVVVVVVVVVVVVVVVVVVVVVVVVVVVVVVVVVVVVVVVVVVVVVVVVVVVVVVVVVVVVVVVVVVVVVVVVVVVVVVVVVVVVVVVVVVVVVVVVVVVVVVVVVVVVVVVVVVVVVVVVVVVVVVV\" type=\"audio/mpeg\" />\n",
              "                    Your browser does not support the audio element.\n",
              "                </audio>\n",
              "              "
            ]
          },
          "metadata": {}
        }
      ]
    }
  ]
}