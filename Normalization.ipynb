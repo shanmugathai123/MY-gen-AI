{
  "nbformat": 4,
  "nbformat_minor": 0,
  "metadata": {
    "colab": {
      "provenance": []
    },
    "kernelspec": {
      "name": "python3",
      "display_name": "Python 3"
    },
    "language_info": {
      "name": "python"
    }
  },
  "cells": [
    {
      "cell_type": "code",
      "execution_count": null,
      "metadata": {
        "id": "-MOePXgD0bND"
      },
      "outputs": [],
      "source": [
        "with open(\"/content/line.txt\",\"r\") as f:\n",
        "  text=f.read()"
      ]
    },
    {
      "cell_type": "code",
      "source": [
        "normalized_text=text.lower()\n"
      ],
      "metadata": {
        "id": "bQ0y-ik31Aam"
      },
      "execution_count": null,
      "outputs": []
    },
    {
      "cell_type": "code",
      "source": [
        "normalized_text=\" \".join([char for char in normalized_text if char.isalnum() or char.isspace()])"
      ],
      "metadata": {
        "id": "cLEVeC5A1K1v"
      },
      "execution_count": null,
      "outputs": []
    },
    {
      "cell_type": "code",
      "source": [
        "normalized_text=\" \".join(normalized_text.split())"
      ],
      "metadata": {
        "id": "kbWHRen81baW"
      },
      "execution_count": null,
      "outputs": []
    },
    {
      "cell_type": "code",
      "metadata": {
        "colab": {
          "base_uri": "https://localhost:8080/"
        },
        "id": "4c919272",
        "outputId": "33dd06b0-31f9-4922-cdf0-fe9790f34bce"
      },
      "source": [
        "normalized_text=text.lower()\n",
        "normalized_text=\" \".join([char for char in normalized_text if char.isalnum() or char.isspace()])\n",
        "normalized_text=\" \".join(normalized_text.split())\n",
        "\n",
        "print(\"original text: \",text)\n",
        "print(\"normalized  text:\",normalized_text)"
      ],
      "execution_count": null,
      "outputs": [
        {
          "output_type": "stream",
          "name": "stdout",
          "text": [
            "original text:  The were once Three Little Pigs!They lived in a straw hut,a stick hut,and a brick hut\n",
            "normalized  text: t h e w e r e o n c e t h r e e l i t t l e p i g s t h e y l i v e d i n a s t r a w h u t a s t i c k h u t a n d a b r i c k h u t\n"
          ]
        }
      ]
    }
  ]
}